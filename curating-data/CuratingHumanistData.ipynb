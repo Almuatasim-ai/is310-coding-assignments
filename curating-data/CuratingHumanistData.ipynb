{
 "cells": [
  {
   "cell_type": "code",
   "execution_count": 67,
   "metadata": {},
   "outputs": [],
   "source": [
    "import pandas as pd\n",
    "import requests\n",
    "from bs4 import BeautifulSoup\n",
    "import csv\n",
    "import warnings\n",
    "warnings.filterwarnings(\"ignore\")\n"
   ]
  },
  {
   "cell_type": "code",
   "execution_count": 65,
   "metadata": {},
   "outputs": [],
   "source": [
    "base_url = 'https://humanist.kdl.kcl.ac.uk/Archives/'\n",
    "response = requests.get(base_url)\n",
    "soup = BeautifulSoup(response.text, 'html.parser')\n",
    "volume_links = soup.find_all('a', href=True)\n",
    "\n",
    "for link in volume_links:\n",
    "    href = link['href']\n",
    "\n",
    "    if not href.startswith('http'):\n",
    "        href = base_url + href\n",
    "\n",
    "    response = requests.get(href)\n",
    "    soup = BeautifulSoup(response.text, 'html.parser')\n",
    "    text = soup.get_text()[:10000]\n",
    "with open(f'volume_{volume_links.index(link)}.txt', 'w', encoding='utf-8') as f:\n",
    "    f.write(text)"
   ]
  },
  {
   "cell_type": "code",
   "execution_count": 66,
   "metadata": {},
   "outputs": [
    {
     "ename": "IndexError",
     "evalue": "list index out of range",
     "output_type": "error",
     "traceback": [
      "\u001b[1;31m---------------------------------------------------------------------------\u001b[0m",
      "\u001b[1;31mIndexError\u001b[0m                                Traceback (most recent call last)",
      "Cell \u001b[1;32mIn[66], line 3\u001b[0m\n\u001b[0;32m      1\u001b[0m volume_links \u001b[38;5;241m=\u001b[39m soup\u001b[38;5;241m.\u001b[39mfind_all(\u001b[38;5;124m'\u001b[39m\u001b[38;5;124ma\u001b[39m\u001b[38;5;124m'\u001b[39m, href\u001b[38;5;241m=\u001b[39m\u001b[38;5;28;01mTrue\u001b[39;00m)  \n\u001b[0;32m      2\u001b[0m links \u001b[38;5;241m=\u001b[39m volume_links\n\u001b[1;32m----> 3\u001b[0m more_links \u001b[38;5;241m=\u001b[39m \u001b[38;5;124m\"\u001b[39m\u001b[38;5;124mhttps://humanist.kdl.kcl.ac.uk/Archives/\u001b[39m\u001b[38;5;124m\"\u001b[39m \u001b[38;5;241m+\u001b[39m links[\u001b[38;5;241m1\u001b[39m]\u001b[38;5;241m.\u001b[39mget(\u001b[38;5;124m'\u001b[39m\u001b[38;5;124mhref\u001b[39m\u001b[38;5;124m'\u001b[39m)\n\u001b[0;32m      4\u001b[0m response2 \u001b[38;5;241m=\u001b[39m requests\u001b[38;5;241m.\u001b[39mget(more_links)\n\u001b[0;32m      5\u001b[0m soup2 \u001b[38;5;241m=\u001b[39m BeautifulSoup(response2\u001b[38;5;241m.\u001b[39mtext, features\u001b[38;5;241m=\u001b[39m\u001b[38;5;124m\"\u001b[39m\u001b[38;5;124mhtml.parser\u001b[39m\u001b[38;5;124m\"\u001b[39m)\n",
      "\u001b[1;31mIndexError\u001b[0m: list index out of range"
     ]
    }
   ],
   "source": [
    "volume_links = soup.find_all('a', href=True)  \n",
    "links = volume_links\n",
    "more_links = \"https://humanist.kdl.kcl.ac.uk/Archives/\" + links[1].get('href')\n",
    "response2 = requests.get(more_links)\n",
    "soup2 = BeautifulSoup(response2.text, features=\"html.parser\")\n",
    "\n",
    "links_c = soup2.find_all('a')\n",
    "with open('web_scraped_humanist_listserv.csv', 'w') as file:\n",
    "            writer = csv.writer(file)\n",
    "            writer.writerow(['Link', 'Volume Text'])\n",
    "            for link in links_c:\n",
    "                   if \"humanist\" in link.get('href'):\n",
    "                         volume_url = more_links + link.get('href')\n",
    "            volume_response = requests.get(volume_url)\n",
    "            volume_soup = BeautifulSoup(volume_response.text, \"html.parser\")\n",
    "            writer.writerow([link.get_text(), volume_soup.get_text()[:10000]])\n",
    "volume_links = soup.find_all('a', href=True)\n",
    "links = volume_links\n",
    "\n",
    "if len(links) > 1:\n",
    "    more_links = \"https://humanist.kdl.kcl.ac.uk/Archives/\" + links[1].get('href')\n",
    "    response2 = requests.get(more_links)\n",
    "    soup2 = BeautifulSoup(response2.text, features=\"html.parser\")\n",
    "else:\n",
    "    print(\"Not enough links found\")\n"
   ]
  },
  {
   "cell_type": "code",
   "execution_count": 69,
   "metadata": {},
   "outputs": [],
   "source": [
    "import pandas as pd\n",
    "\n",
    "# Convert the list to a DataFrame\n",
    "df = pd.DataFrame(data)\n",
    "\n",
    "# Write the DataFrame to a .csv file\n",
    "df.to_csv('web_scraped_humanist_listserv.csv', index=False)\n"
   ]
  }
 ],
 "metadata": {
  "kernelspec": {
   "display_name": "name_of_my_env",
   "language": "python",
   "name": "python3"
  },
  "language_info": {
   "codemirror_mode": {
    "name": "ipython",
    "version": 3
   },
   "file_extension": ".py",
   "mimetype": "text/x-python",
   "name": "python",
   "nbconvert_exporter": "python",
   "pygments_lexer": "ipython3",
   "version": "3.11.5"
  }
 },
 "nbformat": 4,
 "nbformat_minor": 2
}
